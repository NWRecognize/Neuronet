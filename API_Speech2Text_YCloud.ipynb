{
 "cells": [
  {
   "cell_type": "code",
   "execution_count": 1,
   "metadata": {},
   "outputs": [
    {
     "name": "stdout",
     "output_type": "stream",
     "text": [
      "Requirement already satisfied: speechkit in d:\\speech2text_api\\envspeech2textapi\\lib\\site-packages (2.1.1)\n",
      "Requirement already satisfied: boto3 in d:\\speech2text_api\\envspeech2textapi\\lib\\site-packages (from speechkit) (1.26.37)\n",
      "Requirement already satisfied: cryptography in d:\\speech2text_api\\envspeech2textapi\\lib\\site-packages (from speechkit) (38.0.4)\n",
      "Requirement already satisfied: protobuf~=3.19.6 in d:\\speech2text_api\\envspeech2textapi\\lib\\site-packages (from speechkit) (3.19.6)\n",
      "Requirement already satisfied: requests in d:\\speech2text_api\\envspeech2textapi\\lib\\site-packages (from speechkit) (2.28.1)\n",
      "Requirement already satisfied: grpcio-tools>=1.39.0 in d:\\speech2text_api\\envspeech2textapi\\lib\\site-packages (from speechkit) (1.48.2)\n",
      "Requirement already satisfied: pyjwt>=2.1.0 in d:\\speech2text_api\\envspeech2textapi\\lib\\site-packages (from speechkit) (2.6.0)\n",
      "Requirement already satisfied: setuptools in d:\\speech2text_api\\envspeech2textapi\\lib\\site-packages (from grpcio-tools>=1.39.0->speechkit) (47.1.0)\n",
      "Requirement already satisfied: grpcio>=1.48.2 in d:\\speech2text_api\\envspeech2textapi\\lib\\site-packages (from grpcio-tools>=1.39.0->speechkit) (1.51.1)\n",
      "Requirement already satisfied: s3transfer<0.7.0,>=0.6.0 in d:\\speech2text_api\\envspeech2textapi\\lib\\site-packages (from boto3->speechkit) (0.6.0)\n",
      "Requirement already satisfied: jmespath<2.0.0,>=0.7.1 in d:\\speech2text_api\\envspeech2textapi\\lib\\site-packages (from boto3->speechkit) (1.0.1)\n",
      "Requirement already satisfied: botocore<1.30.0,>=1.29.37 in d:\\speech2text_api\\envspeech2textapi\\lib\\site-packages (from boto3->speechkit) (1.29.37)\n",
      "Requirement already satisfied: cffi>=1.12 in d:\\speech2text_api\\envspeech2textapi\\lib\\site-packages (from cryptography->speechkit) (1.15.1)\n",
      "Requirement already satisfied: idna<4,>=2.5 in d:\\speech2text_api\\envspeech2textapi\\lib\\site-packages (from requests->speechkit) (3.4)\n",
      "Requirement already satisfied: certifi>=2017.4.17 in d:\\speech2text_api\\envspeech2textapi\\lib\\site-packages (from requests->speechkit) (2022.12.7)\n",
      "Requirement already satisfied: charset-normalizer<3,>=2 in d:\\speech2text_api\\envspeech2textapi\\lib\\site-packages (from requests->speechkit) (2.1.1)\n",
      "Requirement already satisfied: urllib3<1.27,>=1.21.1 in d:\\speech2text_api\\envspeech2textapi\\lib\\site-packages (from requests->speechkit) (1.26.13)\n",
      "Requirement already satisfied: python-dateutil<3.0.0,>=2.1 in d:\\speech2text_api\\envspeech2textapi\\lib\\site-packages (from botocore<1.30.0,>=1.29.37->boto3->speechkit) (2.8.2)\n",
      "Requirement already satisfied: pycparser in d:\\speech2text_api\\envspeech2textapi\\lib\\site-packages (from cffi>=1.12->cryptography->speechkit) (2.21)\n",
      "Requirement already satisfied: six>=1.5 in d:\\speech2text_api\\envspeech2textapi\\lib\\site-packages (from python-dateutil<3.0.0,>=2.1->botocore<1.30.0,>=1.29.37->boto3->speechkit) (1.16.0)\n",
      "Note: you may need to restart the kernel to use updated packages.\n"
     ]
    },
    {
     "name": "stderr",
     "output_type": "stream",
     "text": [
      "WARNING: You are using pip version 22.0.4; however, version 22.3.1 is available.\n",
      "You should consider upgrading via the 'd:\\Speech2Text_API\\envSpeech2TextAPI\\Scripts\\python.exe -m pip install --upgrade pip' command.\n"
     ]
    }
   ],
   "source": [
    "pip install speechkit"
   ]
  },
  {
   "cell_type": "code",
   "execution_count": 2,
   "metadata": {},
   "outputs": [
    {
     "name": "stdout",
     "output_type": "stream",
     "text": [
      "Requirement already satisfied: SpeechRecognition in d:\\speech2text_api\\envspeech2textapi\\lib\\site-packages (3.9.0)\n",
      "Requirement already satisfied: requests>=2.26.0 in d:\\speech2text_api\\envspeech2textapi\\lib\\site-packages (from SpeechRecognition) (2.28.1)\n",
      "Requirement already satisfied: urllib3<1.27,>=1.21.1 in d:\\speech2text_api\\envspeech2textapi\\lib\\site-packages (from requests>=2.26.0->SpeechRecognition) (1.26.13)\n",
      "Requirement already satisfied: charset-normalizer<3,>=2 in d:\\speech2text_api\\envspeech2textapi\\lib\\site-packages (from requests>=2.26.0->SpeechRecognition) (2.1.1)\n",
      "Requirement already satisfied: idna<4,>=2.5 in d:\\speech2text_api\\envspeech2textapi\\lib\\site-packages (from requests>=2.26.0->SpeechRecognition) (3.4)\n",
      "Requirement already satisfied: certifi>=2017.4.17 in d:\\speech2text_api\\envspeech2textapi\\lib\\site-packages (from requests>=2.26.0->SpeechRecognition) (2022.12.7)\n",
      "Note: you may need to restart the kernel to use updated packages.\n"
     ]
    },
    {
     "name": "stderr",
     "output_type": "stream",
     "text": [
      "WARNING: You are using pip version 22.0.4; however, version 22.3.1 is available.\n",
      "You should consider upgrading via the 'd:\\Speech2Text_API\\envSpeech2TextAPI\\Scripts\\python.exe -m pip install --upgrade pip' command.\n"
     ]
    }
   ],
   "source": [
    "pip install SpeechRecognition"
   ]
  },
  {
   "cell_type": "code",
   "execution_count": 3,
   "metadata": {},
   "outputs": [
    {
     "name": "stdout",
     "output_type": "stream",
     "text": [
      "Requirement already satisfied: pyaudio in d:\\speech2text_api\\envspeech2textapi\\lib\\site-packages (0.2.12)\n",
      "Note: you may need to restart the kernel to use updated packages.\n"
     ]
    },
    {
     "name": "stderr",
     "output_type": "stream",
     "text": [
      "WARNING: You are using pip version 22.0.4; however, version 22.3.1 is available.\n",
      "You should consider upgrading via the 'd:\\Speech2Text_API\\envSpeech2TextAPI\\Scripts\\python.exe -m pip install --upgrade pip' command.\n"
     ]
    }
   ],
   "source": [
    "pip install pyaudio"
   ]
  },
  {
   "cell_type": "code",
   "execution_count": null,
   "metadata": {},
   "outputs": [],
   "source": [
    "b1gn25lc5v97qu4fojnj\n",
    "y0_AgAAAAAIQ318AATuwQAAAADXpY1q_aLnm0ZBQcObh9sVijAF26Jhrv4"
   ]
  },
  {
   "cell_type": "code",
   "execution_count": 4,
   "metadata": {},
   "outputs": [],
   "source": [
    "from speechkit import Session, SpeechSynthesis\n",
    "\n",
    "oauth_token = \"y0_AgAAAAAIQ318AATuwQAAAADXpY1q_aLnm0ZBQcObh9sVijAF26Jhrv4\"\n",
    "catalog_id = \"b1gn25lc5v97qu4fojnj\"\n",
    "\n",
    "# Экземпляр класса `Session` можно получать из разных данных \n",
    "session = Session.from_yandex_passport_oauth_token(oauth_token, catalog_id)"
   ]
  },
  {
   "cell_type": "code",
   "execution_count": 28,
   "metadata": {},
   "outputs": [],
   "source": [
    "\n",
    "# Метод `.synthesize()` позволяет синтезировать речь и сохранять ее в файл\n",
    "synthesizeAudio = SpeechSynthesis(session)\n",
    "\n",
    "synthesizeAudio.synthesize(\n",
    "    'test_voice.wav', text='Сука',\n",
    "    voice='oksana', format='lpcm', sampleRateHertz='16000'\n",
    ")"
   ]
  },
  {
   "cell_type": "code",
   "execution_count": 27,
   "metadata": {},
   "outputs": [],
   "source": [
    "# `.synthesize_stream()` возвращает объект типа `io.BytesIO()` с аудиофайлом\n",
    "audio_data = synthesizeAudio.synthesize_stream(\n",
    "\t\ttext='Сука, снова!',\n",
    "    voice='oksana', format='lpcm', sampleRateHertz='16000'\n",
    ")"
   ]
  },
  {
   "cell_type": "code",
   "execution_count": 24,
   "metadata": {},
   "outputs": [],
   "source": [
    "import pyaudio\n",
    "\n",
    "\n",
    "def pyaudio_play_audio_function(audio_data, num_channels=1, \n",
    "                                sample_rate=16000, chunk_size=4000) -> None:\n",
    "    \"\"\"\n",
    "    Воспроизводит бинарный объект с аудио данными в формате lpcm (WAV)\n",
    "    \n",
    "    :param bytes audio_data: данные сгенерированные спичкитом\n",
    "    :param integer num_channels: количество каналов, спичкит генерирует \n",
    "        моно дорожку, поэтому стоит оставить значение `1`\n",
    "    :param integer sample_rate: частота дискретизации, такая же \n",
    "        какую вы указали в параметре sampleRateHertz\n",
    "    :param integer chunk_size: размер семпла воспроизведения, \n",
    "        можно отрегулировать если появится потрескивание\n",
    "    \"\"\"\n",
    "    p = pyaudio.PyAudio()\n",
    "    stream = p.open(\n",
    "        format=pyaudio.paInt16,\n",
    "        channels=num_channels,\n",
    "        rate=sample_rate,\n",
    "        output=True,\n",
    "        frames_per_buffer=chunk_size\n",
    "    )\n",
    "\n",
    "    try:\n",
    "        for i in range(0, len(audio_data), chunk_size):\n",
    "            stream.write(audio_data[i:i + chunk_size])\n",
    "    finally:\n",
    "        stream.stop_stream()\n",
    "        stream.close()\n",
    "        p.terminate()\n",
    "\n",
    "sample_rate = 16000 # частота дискретизации должна \n",
    "                    # совпадать при синтезе и воспроизведении\n",
    "audio_data = synthesizeAudio.synthesize_stream(\n",
    "    text='Привет Сука, снова и снова! Сука!',\n",
    "    voice='oksana', format='lpcm', sampleRateHertz=sample_rate\n",
    ")\n",
    "# Воспроизводим синтезированный файл\n",
    "pyaudio_play_audio_function(audio_data, sample_rate=sample_rate)"
   ]
  },
  {
   "cell_type": "code",
   "execution_count": 9,
   "metadata": {},
   "outputs": [
    {
     "ename": "NameError",
     "evalue": "name 'requests' is not defined",
     "output_type": "error",
     "traceback": [
      "\u001b[1;31m---------------------------------------------------------------------------\u001b[0m",
      "\u001b[1;31mNameError\u001b[0m                                 Traceback (most recent call last)",
      "\u001b[1;32m~\\AppData\\Local\\Temp\\ipykernel_17900\\375508374.py\u001b[0m in \u001b[0;36m<module>\u001b[1;34m\u001b[0m\n\u001b[0;32m      1\u001b[0m \u001b[0mURL\u001b[0m \u001b[1;33m=\u001b[0m \u001b[1;34m'https://tts.voicetech.yandex.net/generate?text='\u001b[0m\u001b[1;33m+\u001b[0m\u001b[1;34m\"текст\"\u001b[0m\u001b[1;33m+\u001b[0m\u001b[1;34m'&format=wav&lang=ru-RU&speaker=ermil&key='\u001b[0m\u001b[1;33m+\u001b[0m\u001b[1;34m\"b1gn25lc5v97qu4fojnj\"\u001b[0m\u001b[1;33m+\u001b[0m\u001b[1;34m'&speed=1&emotion=good'\u001b[0m\u001b[1;33m\u001b[0m\u001b[1;33m\u001b[0m\u001b[0m\n\u001b[1;32m----> 2\u001b[1;33m \u001b[0mresponse\u001b[0m\u001b[1;33m=\u001b[0m\u001b[0mrequests\u001b[0m\u001b[1;33m.\u001b[0m\u001b[0mget\u001b[0m\u001b[1;33m(\u001b[0m\u001b[0mURL\u001b[0m\u001b[1;33m)\u001b[0m\u001b[1;33m\u001b[0m\u001b[1;33m\u001b[0m\u001b[0m\n\u001b[0m\u001b[0;32m      3\u001b[0m \u001b[1;32mif\u001b[0m \u001b[0mresponse\u001b[0m\u001b[1;33m.\u001b[0m\u001b[0mstatus_code\u001b[0m\u001b[1;33m==\u001b[0m\u001b[1;36m200\u001b[0m\u001b[1;33m:\u001b[0m\u001b[1;33m\u001b[0m\u001b[1;33m\u001b[0m\u001b[0m\n\u001b[0;32m      4\u001b[0m     \u001b[1;32mwith\u001b[0m \u001b[0mopen\u001b[0m\u001b[1;33m(\u001b[0m\u001b[0mspeech_file_name\u001b[0m\u001b[1;33m,\u001b[0m\u001b[1;34m'wb'\u001b[0m\u001b[1;33m)\u001b[0m \u001b[1;32mas\u001b[0m \u001b[0mfile\u001b[0m\u001b[1;33m:\u001b[0m\u001b[1;33m\u001b[0m\u001b[1;33m\u001b[0m\u001b[0m\n\u001b[0;32m      5\u001b[0m         \u001b[0mfile\u001b[0m\u001b[1;33m.\u001b[0m\u001b[0mwrite\u001b[0m\u001b[1;33m(\u001b[0m\u001b[0mresponse\u001b[0m\u001b[1;33m.\u001b[0m\u001b[0mcontent\u001b[0m\u001b[1;33m)\u001b[0m\u001b[1;33m\u001b[0m\u001b[1;33m\u001b[0m\u001b[0m\n",
      "\u001b[1;31mNameError\u001b[0m: name 'requests' is not defined"
     ]
    }
   ],
   "source": [
    "#ОТЛАДКА\n",
    "\n",
    "URL = 'https://tts.voicetech.yandex.net/generate?text='+text+'&format=wav&lang=ru-RU&speaker=ermil&key='+key+'&speed=1&emotion=good'\n",
    "response=requests.get(URL)\n",
    "if response.status_code==200:\n",
    "    with open(speech_file_name,'wb') as file:\n",
    "        file.write(response.content)"
   ]
  },
  {
   "cell_type": "code",
   "execution_count": 2,
   "metadata": {},
   "outputs": [
    {
     "name": "stdout",
     "output_type": "stream",
     "text": [
      "Добрый день, вы хотите записаться на прием?\n"
     ]
    }
   ],
   "source": [
    "import speech_recognition as sr\n",
    "import os\n",
    "import sys\n",
    "\n",
    "# Делаем так, чтобы с нами говорили\n",
    "# При запуске на PyCharm могут быть проблемы\n",
    "\n",
    "def talk (wordsTalk):\n",
    "    print(wordsTalk)\n",
    "    os.system(\"say\" + wordsTalk)\n",
    "\n",
    "talk(\"Добрый день, вы хотите записаться на прием?\")"
   ]
  },
  {
   "cell_type": "code",
   "execution_count": 21,
   "metadata": {},
   "outputs": [
    {
     "name": "stdout",
     "output_type": "stream",
     "text": [
      "Нет\n"
     ]
    }
   ],
   "source": [
    "from speechkit import ShortAudioRecognition\n",
    "\n",
    "\n",
    "# Читаем файл\n",
    "with open('no_Dan_V0.wav', 'rb') as f:\n",
    "    data = f.read()\n",
    "    \n",
    "# Создаем экземпляр класса с помощью `session` полученного ранее\n",
    "recognizeShortAudio = ShortAudioRecognition(session)\n",
    "\n",
    "# Передаем файл и его формат в метод `.recognize()`, \n",
    "# который возвращает строку с текстом\n",
    "text = recognizeShortAudio.recognize(\n",
    "\t\tdata, format='lpcm', sampleRateHertz='16000')\n",
    "print(text)"
   ]
  },
  {
   "cell_type": "code",
   "execution_count": 5,
   "metadata": {},
   "outputs": [
    {
     "name": "stdout",
     "output_type": "stream",
     "text": [
      "вы сказали : нет\n",
      "на нет и суда - нет\n"
     ]
    }
   ],
   "source": [
    "zadanie = recognizeShortAudio.recognize(data, format='lpcm', sampleRateHertz='16000').lower()\n",
    "print(\"вы сказали : \" + zadanie)\n",
    "\n",
    "def MakeSomthing(zadanie):\n",
    "    if \"да\" in zadanie:\n",
    "        print(\"хорошо, какой врач вас интересует?\")\n",
    "    else:\n",
    "        print(\"на нет и суда - нет\")\n",
    "\n",
    "MakeSomthing(zadanie)"
   ]
  }
 ],
 "metadata": {
  "kernelspec": {
   "display_name": "envSpeech2TextAPI",
   "language": "python",
   "name": "python3"
  },
  "language_info": {
   "codemirror_mode": {
    "name": "ipython",
    "version": 3
   },
   "file_extension": ".py",
   "mimetype": "text/x-python",
   "name": "python",
   "nbconvert_exporter": "python",
   "pygments_lexer": "ipython3",
   "version": "3.7.13 (default, Mar 28 2022, 08:03:21) [MSC v.1916 64 bit (AMD64)]"
  },
  "orig_nbformat": 4,
  "vscode": {
   "interpreter": {
    "hash": "b2c529d822e6f5c0d3969fe696ff70fdebf5be020ef3353af66eed8afe6a8cda"
   }
  }
 },
 "nbformat": 4,
 "nbformat_minor": 2
}
